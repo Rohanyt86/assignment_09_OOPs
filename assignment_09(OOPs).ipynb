{
 "cells": [
  {
   "cell_type": "markdown",
   "id": "67a576ae",
   "metadata": {},
   "source": [
    "#### Q1. What is Abstraction in OOps? Explain with an example."
   ]
  },
  {
   "cell_type": "code",
   "execution_count": null,
   "id": "009349a5",
   "metadata": {},
   "outputs": [],
   "source": [
    "Abstraction is one of the fundamental concepts in object-oriented programming (OOP). It refers to the process of \n",
    "simplifying complex reality by modeling classes based on the essential  characteristics and behaviors while hiding unnecessary details."
   ]
  },
  {
   "cell_type": "code",
   "execution_count": 1,
   "id": "ded56e97",
   "metadata": {},
   "outputs": [],
   "source": [
    "## example\n",
    "## skeleton make\n",
    "\n",
    "import abc\n",
    "\n",
    "class pwskills:\n",
    "    \n",
    "    @abc.abstractmethod\n",
    "    def student(self):\n",
    "        pass"
   ]
  },
  {
   "cell_type": "code",
   "execution_count": 2,
   "id": "ed546c2f",
   "metadata": {},
   "outputs": [],
   "source": [
    "class henry(pwskills):\n",
    "    \n",
    "    def student(self):\n",
    "        print(\"henry is handsome to see\")"
   ]
  },
  {
   "cell_type": "code",
   "execution_count": 4,
   "id": "47c11505",
   "metadata": {},
   "outputs": [],
   "source": [
    "p = henry()  # make object"
   ]
  },
  {
   "cell_type": "code",
   "execution_count": 6,
   "id": "0eaea58c",
   "metadata": {},
   "outputs": [
    {
     "name": "stdout",
     "output_type": "stream",
     "text": [
      "henry is handsome to see\n"
     ]
    }
   ],
   "source": [
    "p.student()"
   ]
  },
  {
   "cell_type": "markdown",
   "id": "4b30d5a3",
   "metadata": {},
   "source": [
    "#### Q2. Differentiate between Abstraction and Encapsulation. Explain with an example."
   ]
  },
  {
   "cell_type": "code",
   "execution_count": null,
   "id": "a9df1c86",
   "metadata": {},
   "outputs": [],
   "source": [
    "Abstraction: It hides unnecessary details and focuses on \"what\" an object does. \n",
    "    It involves creating abstract classes and interfaces that define the common behaviors for objects.\n",
    "\n",
    "Encapsulation: It bundles data and the methods that operate on that data into a single unit (a class) and \n",
    "    restricts direct access to the data. It ensures data integrity and controlled interaction with the object."
   ]
  },
  {
   "cell_type": "code",
   "execution_count": 10,
   "id": "5cadb1fd",
   "metadata": {},
   "outputs": [],
   "source": [
    "class test:\n",
    "    \n",
    "    def __init__(self,a,b):\n",
    "        self.__a = a\n",
    "        self.__b = b\n",
    "        \n",
    "    def set_speed(self, speed):\n",
    "        self.__speed = 0 if speed < 0 else speed\n",
    "        \n",
    "    def get_speed(self):\n",
    "        return self.__speed"
   ]
  },
  {
   "cell_type": "code",
   "execution_count": 11,
   "id": "8199baad",
   "metadata": {},
   "outputs": [],
   "source": [
    "t = test(1,34)"
   ]
  },
  {
   "cell_type": "code",
   "execution_count": 14,
   "id": "b11feace",
   "metadata": {},
   "outputs": [
    {
     "data": {
      "text/plain": [
       "1"
      ]
     },
     "execution_count": 14,
     "metadata": {},
     "output_type": "execute_result"
    }
   ],
   "source": [
    "t._test__a     # want to execute"
   ]
  },
  {
   "cell_type": "code",
   "execution_count": 15,
   "id": "8e1f6221",
   "metadata": {},
   "outputs": [
    {
     "data": {
      "text/plain": [
       "2"
      ]
     },
     "execution_count": 15,
     "metadata": {},
     "output_type": "execute_result"
    }
   ],
   "source": [
    "t._test__b"
   ]
  },
  {
   "cell_type": "markdown",
   "id": "bb4ec631",
   "metadata": {},
   "source": [
    "#### Q3. What is abc module in python? Why is it used?"
   ]
  },
  {
   "cell_type": "code",
   "execution_count": null,
   "id": "775607a3",
   "metadata": {},
   "outputs": [],
   "source": [
    "The abc module in Python stands for \"Abstract Base Classes.\" It is a built-in module that provides mechanisms for defining and \n",
    "working with abstract classes and methods. "
   ]
  },
  {
   "cell_type": "markdown",
   "id": "0f86d068",
   "metadata": {},
   "source": [
    "#### Q4. How can we achieve data abstraction?"
   ]
  },
  {
   "cell_type": "code",
   "execution_count": null,
   "id": "bdc92570",
   "metadata": {},
   "outputs": [],
   "source": [
    "Using object-oriented programming to encapsulate data and behaviors.\n",
    "Creating abstract data types and interfaces that hide internal details.\n",
    "Utilizing well-defined contracts and modular design.\n",
    "Providing clear documentation for how to use data abstractions"
   ]
  },
  {
   "cell_type": "markdown",
   "id": "9eea5e9c",
   "metadata": {},
   "source": [
    "#### Q5. Can we create an instance of an abstract class? Explain your answer."
   ]
  },
  {
   "cell_type": "code",
   "execution_count": null,
   "id": "38dfda7b",
   "metadata": {},
   "outputs": [],
   "source": [
    "We cannot create an instance of an abstract class. Abstract classes are meant to be subclassed,\n",
    "and instances should be created from concrete subclasses that implement the abstract methods."
   ]
  }
 ],
 "metadata": {
  "kernelspec": {
   "display_name": "Python 3 (ipykernel)",
   "language": "python",
   "name": "python3"
  },
  "language_info": {
   "codemirror_mode": {
    "name": "ipython",
    "version": 3
   },
   "file_extension": ".py",
   "mimetype": "text/x-python",
   "name": "python",
   "nbconvert_exporter": "python",
   "pygments_lexer": "ipython3",
   "version": "3.9.13"
  }
 },
 "nbformat": 4,
 "nbformat_minor": 5
}
